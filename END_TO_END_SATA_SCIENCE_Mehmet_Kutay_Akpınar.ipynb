{
  "nbformat": 4,
  "nbformat_minor": 0,
  "metadata": {
    "colab": {
      "name": "END_TO_END_SATA_SCIENCE_yeni__(1).ipynb",
      "provenance": [],
      "collapsed_sections": [],
      "toc_visible": true
    },
    "kernelspec": {
      "name": "python3",
      "display_name": "Python 3"
    },
    "language_info": {
      "name": "python"
    }
  },
  "cells": [
    {
      "cell_type": "markdown",
      "source": [
        "# Yeni Bölüm"
      ],
      "metadata": {
        "id": "e_ji-aLvmV65"
      }
    },
    {
      "cell_type": "markdown",
      "source": [
        "AI GLOBAL SUMMER CAMP 2022 MEDICAL END TO END DATA SCIENCE PROJECT\n"
      ],
      "metadata": {
        "id": "GEUEfaotmZA7"
      }
    },
    {
      "cell_type": "code",
      "source": [
        "import pandas as pd\n",
        "import numpy as np\n",
        "import seaborn as sns\n",
        "import matplotlib.pyplot as plt\n",
        "import sklearn as skn"
      ],
      "metadata": {
        "id": "bjM1he6XnAgk"
      },
      "execution_count": 112,
      "outputs": []
    },
    {
      "cell_type": "code",
      "source": [
        "df=pd.read_csv(\"insurance.csv\")\n",
        "print(df) #we read the csv file by using pandas."
      ],
      "metadata": {
        "colab": {
          "base_uri": "https://localhost:8080/"
        },
        "id": "4GS3oNT1nqfA",
        "outputId": "f804c010-67d4-4455-c719-8aeac15eb22d"
      },
      "execution_count": 113,
      "outputs": [
        {
          "output_type": "stream",
          "name": "stdout",
          "text": [
            "      age     sex     bmi  children smoker     region      charges\n",
            "0      19  female  27.900         0    yes  southwest  16884.92400\n",
            "1      18    male  33.770         1     no  southeast   1725.55230\n",
            "2      28    male  33.000         3     no  southeast   4449.46200\n",
            "3      33    male  22.705         0     no  northwest  21984.47061\n",
            "4      32    male  28.880         0     no  northwest   3866.85520\n",
            "...   ...     ...     ...       ...    ...        ...          ...\n",
            "1333   50    male  30.970         3     no  northwest  10600.54830\n",
            "1334   18  female  31.920         0     no  northeast   2205.98080\n",
            "1335   18  female  36.850         0     no  southeast   1629.83350\n",
            "1336   21  female  25.800         0     no  southwest   2007.94500\n",
            "1337   61  female  29.070         0    yes  northwest  29141.36030\n",
            "\n",
            "[1338 rows x 7 columns]\n"
          ]
        }
      ]
    },
    {
      "cell_type": "code",
      "source": [
        "print(df.head())\n",
        "print(df.tail())"
      ],
      "metadata": {
        "colab": {
          "base_uri": "https://localhost:8080/"
        },
        "id": "9e-sfcTjoN4C",
        "outputId": "5da1adb2-e17b-44d9-b727-daf86bd403dc"
      },
      "execution_count": 114,
      "outputs": [
        {
          "output_type": "stream",
          "name": "stdout",
          "text": [
            "   age     sex     bmi  children smoker     region      charges\n",
            "0   19  female  27.900         0    yes  southwest  16884.92400\n",
            "1   18    male  33.770         1     no  southeast   1725.55230\n",
            "2   28    male  33.000         3     no  southeast   4449.46200\n",
            "3   33    male  22.705         0     no  northwest  21984.47061\n",
            "4   32    male  28.880         0     no  northwest   3866.85520\n",
            "      age     sex    bmi  children smoker     region     charges\n",
            "1333   50    male  30.97         3     no  northwest  10600.5483\n",
            "1334   18  female  31.92         0     no  northeast   2205.9808\n",
            "1335   18  female  36.85         0     no  southeast   1629.8335\n",
            "1336   21  female  25.80         0     no  southwest   2007.9450\n",
            "1337   61  female  29.07         0    yes  northwest  29141.3603\n"
          ]
        }
      ]
    },
    {
      "cell_type": "code",
      "source": [
        "print(df.isna().any()) #we can control missing values."
      ],
      "metadata": {
        "colab": {
          "base_uri": "https://localhost:8080/"
        },
        "id": "1qtUkObTnqlI",
        "outputId": "c41c6861-a6b7-4d66-d30a-6d738970f1a9"
      },
      "execution_count": 115,
      "outputs": [
        {
          "output_type": "stream",
          "name": "stdout",
          "text": [
            "age         False\n",
            "sex         False\n",
            "bmi         False\n",
            "children    False\n",
            "smoker      False\n",
            "region      False\n",
            "charges     False\n",
            "dtype: bool\n"
          ]
        }
      ]
    },
    {
      "cell_type": "code",
      "source": [
        "print(df[\"bmi\"].describe()) #to anayze distribution of bmi"
      ],
      "metadata": {
        "colab": {
          "base_uri": "https://localhost:8080/"
        },
        "id": "bxZML_eysGiA",
        "outputId": "6c0b44f1-dffc-44d1-d059-ccd105a87137"
      },
      "execution_count": 116,
      "outputs": [
        {
          "output_type": "stream",
          "name": "stdout",
          "text": [
            "count    1338.000000\n",
            "mean       30.663397\n",
            "std         6.098187\n",
            "min        15.960000\n",
            "25%        26.296250\n",
            "50%        30.400000\n",
            "75%        34.693750\n",
            "max        53.130000\n",
            "Name: bmi, dtype: float64\n"
          ]
        }
      ]
    },
    {
      "cell_type": "code",
      "source": [
        "x=df[\"bmi\"].value_counts()\n",
        "x=pd.DataFrame(x)\n",
        "print(x)\n",
        "\n",
        "#it gives the distribution of bmi\n"
      ],
      "metadata": {
        "colab": {
          "base_uri": "https://localhost:8080/"
        },
        "id": "zBs1bJMFnqut",
        "outputId": "96158a3d-89e4-48e3-932b-07ec0797a09f"
      },
      "execution_count": 117,
      "outputs": [
        {
          "output_type": "stream",
          "name": "stdout",
          "text": [
            "        bmi\n",
            "32.300   13\n",
            "28.310    9\n",
            "30.495    8\n",
            "30.875    8\n",
            "31.350    8\n",
            "...     ...\n",
            "46.200    1\n",
            "23.800    1\n",
            "44.770    1\n",
            "32.120    1\n",
            "30.970    1\n",
            "\n",
            "[548 rows x 1 columns]\n"
          ]
        }
      ]
    },
    {
      "cell_type": "code",
      "source": [
        "plot1=plt.bar(df[\"smoker\"],df[\"charges\"],color = 'r',width=0.60)\n",
        "plot1=plt.grid()\n",
        "plot1=plt.title(\"Smoker vs Charges\")\n",
        "plot1=plt.xlabel(\"Smoker\")\n",
        "plot1=plt.ylabel(\"Charges\")\n",
        "\n",
        "#according to plot we can say that smoke increase charge."
      ],
      "metadata": {
        "colab": {
          "base_uri": "https://localhost:8080/",
          "height": 295
        },
        "id": "fm43KaYk1nwL",
        "outputId": "26d58fcd-c6ea-4a75-92d9-9becc69a2c6a"
      },
      "execution_count": 118,
      "outputs": [
        {
          "output_type": "display_data",
          "data": {
            "text/plain": [
              "<Figure size 432x288 with 1 Axes>"
            ],
            "image/png": "[encoded data removed]"
          },
          "metadata": {
            "needs_background": "light"
          }
        }
      ]
    },
    {
      "cell_type": "code",
      "source": [
        "x=df[\"smoker\"]\n",
        "y=df[\"charges\"]\n",
        "c=list(zip(x,y))\n",
        "smokerscharges=0\n",
        "nosmokercharges=0\n",
        "numyes=0\n",
        "numno=0\n",
        "\n",
        "for i,j in c:\n",
        "  if i==\"yes\":\n",
        "    smokerscharges+=j\n",
        "    numyes+=1\n",
        "  else:\n",
        "    nosmokercharges+=j\n",
        "    numno+=1\n",
        "\n",
        "avg_smoker_charge=smokerscharges/numyes\n",
        "avg_nosmoker_charges=nosmokercharges/numno\n",
        "print(\"Average Person charge who smoke :\",avg_smoker_charge)\n",
        "\n",
        "print(\"Average Person charge who do not smoke:\",avg_nosmoker_charges)\n",
        "\n",
        "plot=plt.bar(\"yes\",avg_smoker_charge,width=0.5)\n",
        "plot=plt.bar(\"no\",avg_nosmoker_charges,width=0.5)\n",
        "\n",
        "plot=plt.grid()\n",
        "plot=plt.xlabel(\"Smoke\")\n",
        "plot=plt.ylabel(\"Average Charge\")\n",
        "plot=plt.title(\"Average Charge vs Smoke\")\n",
        "\n",
        "#According to graph we can easily say that charge of people who smoke much greates than do not smoke.\n"
      ],
      "metadata": {
        "colab": {
          "base_uri": "https://localhost:8080/",
          "height": 330
        },
        "id": "t9SXoXId6__e",
        "outputId": "65ac5fef-027f-49ac-af77-1eb6ee327b2b"
      },
      "execution_count": 119,
      "outputs": [
        {
          "output_type": "stream",
          "name": "stdout",
          "text": [
            "Average Person charge who smoke : 32050.23183153285\n",
            "Average Person charge who do not smoke: 8434.268297856199\n"
          ]
        },
        {
          "output_type": "display_data",
          "data": {
            "text/plain": [
              "<Figure size 432x288 with 1 Axes>"
            ],
            "image/png": "[encoded data removed]"
          },
          "metadata": {
            "needs_background": "light"
          }
        }
      ]
    },
    {
      "cell_type": "code",
      "source": [
        "x=df[\"region\"]\n",
        "y=df[\"smoker\"]\n",
        "print(df[df[\"smoker\"]==\"yes\"].describe())   \n",
        "a=list(zip(x,y) ) \n",
        "southwest=0 #number of smokers at the region at initial\n",
        "northwest=0\n",
        "southeast=0\n",
        "northeast=0\n",
        "for i,j in a:\n",
        "  if i==\"southwest\" and j==\"yes\":\n",
        "    southwest+=1\n",
        "  elif i==\"northwest\" and j==\"yes\":\n",
        "    northwest+=1\n",
        "  elif i==\"southeast\" and j==\"yes\":\n",
        "    southeast+=1\n",
        "  elif i==\"northeast\" and j==\"yes\":\n",
        "    northeast+=1\n",
        "\n",
        "plotx=plt.bar(\"Southwest\",southwest)\n",
        "plotx=plt.bar(\"Northwest\",northwest)\n",
        "plotx=plt.bar(\"Southeast\",southeast)\n",
        "plotx=plt.bar(\"Northeast\",northeast)\n",
        "plotx=plt.title(\"The Number of Smokers Accorging to Regions\")\n",
        "plotx=plt.grid()\n",
        "print(\"The number of smokers in SouthWest:{}\".format(southwest))\n",
        "print(\"The number of smokers in NorthWest:{}\".format(northwest))\n",
        "print(\"The number of smokers in SouthEast:{}\".format(southeast))\n",
        "print(\"The number of smokers in NorthEast:{}\".format(northeast))"
      ],
      "metadata": {
        "colab": {
          "base_uri": "https://localhost:8080/",
          "height": 507
        },
        "id": "6CU0fXzZ3jaz",
        "outputId": "c1b70081-1422-44f3-eaa0-037b6688f471"
      },
      "execution_count": 120,
      "outputs": [
        {
          "output_type": "stream",
          "name": "stdout",
          "text": [
            "              age         bmi    children       charges\n",
            "count  274.000000  274.000000  274.000000    274.000000\n",
            "mean    38.514599   30.708449    1.113139  32050.231832\n",
            "std     13.923186    6.318644    1.157066  11541.547176\n",
            "min     18.000000   17.195000    0.000000  12829.455100\n",
            "25%     27.000000   26.083750    0.000000  20826.244213\n",
            "50%     38.000000   30.447500    1.000000  34456.348450\n",
            "75%     49.000000   35.200000    2.000000  41019.207275\n",
            "max     64.000000   52.580000    5.000000  63770.428010\n",
            "The number of smokers in SouthWest:58\n",
            "The number of smokers in NorthWest:58\n",
            "The number of smokers in SouthEast:91\n",
            "The number of smokers in NorthEast:67\n"
          ]
        },
        {
          "output_type": "display_data",
          "data": {
            "text/plain": [
              "<Figure size 432x288 with 1 Axes>"
            ],
            "image/png": "[encoded data removed]"
          },
          "metadata": {
            "needs_background": "light"
          }
        }
      ]
    },
    {
      "cell_type": "code",
      "source": [
        "a=df[\"sex\"]\n",
        "b=df[\"bmi\"]\n",
        "c=list(zip(a,b))\n",
        "\n",
        "numfem=0\n",
        "nummal=0\n",
        "femtotal=0\n",
        "maltotal=0\n",
        "for i,j in c:\n",
        "  if i==\"female\":\n",
        "    numfem+=1\n",
        "    femtotal+=j\n",
        "  else:\n",
        "    nummal+=1\n",
        "    maltotal+=j\n",
        "\n",
        "print(\"Average bmi of males:\",maltotal/nummal)\n",
        "print(\"Average bmi of females:\",femtotal/numfem)\n",
        "\n",
        "#So we can say that average of bmi males and females are equal each other.\n",
        "plot=plt.bar(\"Male\",maltotal/nummal,color=\"red\",width=0.5)\n",
        "plot=plt.bar(\"Female\",femtotal/numfem,color=\"green\",width=0.5)\n",
        "plot=plt.title(\"Average Bmi vs Sex\")\n",
        "plot=plt.xlabel(\"Sex\")\n",
        "plot=plt.ylabel(\"Average Bmi of Sex\")"
      ],
      "metadata": {
        "colab": {
          "base_uri": "https://localhost:8080/",
          "height": 330
        },
        "id": "-HepSG5N3Kz9",
        "outputId": "e7b60b1f-058e-46ac-8aae-0e871221fdc4"
      },
      "execution_count": 121,
      "outputs": [
        {
          "output_type": "stream",
          "name": "stdout",
          "text": [
            "Average bmi of males: 30.943128698224832\n",
            "Average bmi of females: 30.377749244713023\n"
          ]
        },
        {
          "output_type": "display_data",
          "data": {
            "text/plain": [
              "<Figure size 432x288 with 1 Axes>"
            ],
            "image/png": "[encoded data removed]"
          },
          "metadata": {
            "needs_background": "light"
          }
        }
      ]
    },
    {
      "cell_type": "code",
      "source": [
        "x=df[\"region\"]\n",
        "y=df[\"children\"]\n",
        "c=list(zip(x,y))\n",
        "numchilsw=0\n",
        "numchilse=0\n",
        "numchilnw=0\n",
        "numchilne=0\n",
        "for i,j in c:\n",
        "  if i==\"southwest\" :\n",
        "    numchilsw+=j\n",
        "  elif i==\"northwest\" :\n",
        "    numchilnw+=j\n",
        "  elif i==\"southeast\" :\n",
        "    numchilse+=j\n",
        "  elif i==\"northeast\"  :\n",
        "    numchilne+=j\n",
        "print(max(numchilsw,numchilse,numchilnw,numchilne))\n",
        "\n",
        "print(\"The number of children in SouthWest:{}\".format(numchilsw))\n",
        "\n",
        "print(\"The number of children in SouthEast:{}\".format(numchilse))\n",
        "\n",
        "print(\"The number of children in NorthWest:{}\".format(numchilnw))\n",
        "\n",
        "print(\"The number of children in NorthEast:{}\".format(numchilne))\n",
        "\n",
        "plot6=plt.bar(\"SouthWest\",numchilsw)\n",
        "plot6=plt.bar(\"NorthWest\",numchilnw)\n",
        "plot6=plt.bar(\"SouthEast\",numchilse)\n",
        "plot6=plt.bar(\"NorthEast\",numchilne)\n",
        "plot6=plt.xlabel(\"Region\")\n",
        "plot6=plt.ylabel(\"Number of Children\")\n",
        "plot6=plt.title(\"Number of Children vs Regions\")\n",
        "#According to graph SouthEast has greater number of child. \n"
      ],
      "metadata": {
        "id": "kEEAMhAS_kdm",
        "colab": {
          "base_uri": "https://localhost:8080/",
          "height": 382
        },
        "outputId": "6848b3e3-3311-4120-f2fe-1bae3a0c6653"
      },
      "execution_count": 122,
      "outputs": [
        {
          "output_type": "stream",
          "name": "stdout",
          "text": [
            "382\n",
            "The number of children in SouthWest:371\n",
            "The number of children in SouthEast:382\n",
            "The number of children in NorthWest:373\n",
            "The number of children in NorthEast:339\n"
          ]
        },
        {
          "output_type": "display_data",
          "data": {
            "text/plain": [
              "<Figure size 432x288 with 1 Axes>"
            ],
            "image/png": "[encoded data removed]"
          },
          "metadata": {
            "needs_background": "light"
          }
        }
      ]
    },
    {
      "cell_type": "code",
      "source": [
        "plot7=plt.bar(df[\"bmi\"],df[\"age\"],width = 0.05,color = 'g')\n",
        "plot7=plt.xlabel(\"Age\")\n",
        "plot7=plt.ylabel(\"Bmi\")\n",
        "plot7=plt.title(\"The Relationship between Age and Bmi\")\n",
        "#According to graph the range 25-35 of age has greater Bmi than others."
      ],
      "metadata": {
        "colab": {
          "base_uri": "https://localhost:8080/",
          "height": 295
        },
        "id": "rCnCMokKkzqH",
        "outputId": "cd883c04-d58c-40d5-cd03-b4e0f2c4b498"
      },
      "execution_count": 123,
      "outputs": [
        {
          "output_type": "display_data",
          "data": {
            "text/plain": [
              "<Figure size 432x288 with 1 Axes>"
            ],
            "image/png": "[encoded data removed]"
          },
          "metadata": {
            "needs_background": "light"
          }
        }
      ]
    },
    {
      "cell_type": "code",
      "source": [
        "plot8=plt.scatter(df[\"bmi\"],df[\"children\"],color = 'b')\n",
        "plot8=plt.xlabel(\"Bmi\")\n",
        "plot8=plt.ylabel(\"Children\")\n",
        "plot8=plt.title(\"The Relationship between Bmi and Children\")\n",
        "#We can easily determine Bmi interval that has maximum number of child."
      ],
      "metadata": {
        "colab": {
          "base_uri": "https://localhost:8080/",
          "height": 295
        },
        "id": "AhpGPS2emI2d",
        "outputId": "c6f0b262-7930-4c6e-cb52-2abdb90070ef"
      },
      "execution_count": 124,
      "outputs": [
        {
          "output_type": "display_data",
          "data": {
            "text/plain": [
              "<Figure size 432x288 with 1 Axes>"
            ],
            "image/png": "[encoded data removed]"
          },
          "metadata": {
            "needs_background": "light"
          }
        }
      ]
    },
    {
      "cell_type": "code",
      "source": [
        "#Alternative method for that\n",
        "x=np.array(df[\"bmi\"])\n",
        "y=np.array(df[\"children\"])\n",
        "a=np.concatenate(([x],[y]),axis=0)\n",
        "#print(a)\n",
        "plot4=plt.scatter(a[0],a[1])\n",
        "plot4=plt.xlabel(\"Bmi\")\n",
        "plot4=plt.ylabel(\"Children\")\n",
        "plot4=plt.title(\"The Relationship between Bmi and Children\")"
      ],
      "metadata": {
        "colab": {
          "base_uri": "https://localhost:8080/",
          "height": 295
        },
        "id": "lYyZc8UNvSil",
        "outputId": "297e4415-2179-4bb5-88f4-92292580728a"
      },
      "execution_count": 125,
      "outputs": [
        {
          "output_type": "display_data",
          "data": {
            "text/plain": [
              "<Figure size 432x288 with 1 Axes>"
            ],
            "image/png": "[encoded data removed]"
          },
          "metadata": {
            "needs_background": "light"
          }
        }
      ]
    },
    {
      "cell_type": "code",
      "source": [
        "a = df[\"bmi\"]\n",
        "a=list(a)\n",
        "total=0\n",
        "var=0\n",
        "\n",
        "#the average of bmi:\n",
        "for i in a:\n",
        "  total+=i\n",
        "  var+=1\n",
        "maximumvalue=max(a)\n",
        "print(\"Average Bmi:\",total/var)\n",
        "print(\"Maximum Bmi:\",maximumvalue)\n",
        "\n",
        "print(\"So we can say that 53.13 is the outlier of bmi.\")\n"
      ],
      "metadata": {
        "colab": {
          "base_uri": "https://localhost:8080/"
        },
        "id": "tXoEvN4tngkg",
        "outputId": "3de86607-44d3-4312-996a-fd6ede3e2c08"
      },
      "execution_count": 126,
      "outputs": [
        {
          "output_type": "stream",
          "name": "stdout",
          "text": [
            "Average Bmi: 30.663396860986538\n",
            "Maximum Bmi: 53.13\n",
            "So we can say that 53.13 is the outlier of bmi.\n"
          ]
        }
      ]
    },
    {
      "cell_type": "code",
      "source": [
        "plot8=plt.bar(df[\"bmi\"],df[\"charges\"],color='b',width=0.2)\n",
        "plot8=plt.xlabel(\"Bmi\")\n",
        "plot8=plt.ylabel(\"Charges\")\n",
        "plot8=plt.title(\"The Relationship between Bmi and Charges\")\n",
        "plot8=plt.grid()"
      ],
      "metadata": {
        "colab": {
          "base_uri": "https://localhost:8080/",
          "height": 295
        },
        "id": "NuI0agqBtZw6",
        "outputId": "0e0825b1-3a45-4043-f926-04d542091ee0"
      },
      "execution_count": 127,
      "outputs": [
        {
          "output_type": "display_data",
          "data": {
            "text/plain": [
              "<Figure size 432x288 with 1 Axes>"
            ],
            "image/png": "[encoded data removed]"
          },
          "metadata": {
            "needs_background": "light"
          }
        }
      ]
    },
    {
      "cell_type": "code",
      "source": [
        "x=df[\"region\"]\n",
        "y=df[\"smoker\"]\n",
        "#print(df[df[\"smoker\"]==\"yes\"].describe())   \n",
        "a=list(zip(x,y) ) \n",
        "southwest=0 #number of smokers at the region at initial\n",
        "northwest=0\n",
        "southeast=0\n",
        "northeast=0\n",
        "for i,j in a:\n",
        "  if i==\"southwest\" and j==\"yes\":\n",
        "    southwest+=1\n",
        "  elif i==\"northwest\" and j==\"yes\":\n",
        "    northwest+=1\n",
        "  elif i==\"southeast\" and j==\"yes\":\n",
        "    southeast+=1\n",
        "  elif i==\"northeast\" and j==\"yes\":\n",
        "    northeast+=1\n",
        "z=df[\"bmi\"]\n",
        "swbmitotal=0\n",
        "swbminum=0\n",
        "sebmitotal=0\n",
        "sebminum=0\n",
        "nebmitotal=0\n",
        "nebminum=0\n",
        "nwbmitotal=0\n",
        "nwbminum=0\n",
        "\n",
        "b=list(zip(x,z))\n",
        "for i,j in b:\n",
        "  if i==\"southwest\":\n",
        "    swbmitotal+=j\n",
        "    swbminum+=1\n",
        "  elif i==\"northwest\":\n",
        "    nwbmitotal+=j\n",
        "    nwbminum+=1\n",
        "  elif i==\"southeast\":\n",
        "    sebmitotal+=j\n",
        "    sebminum+=1\n",
        "  elif i==\"northeast\":\n",
        "    nebmitotal+=j\n",
        "    nebminum+=1\n",
        "avgbmi_sw=swbmitotal/swbminum\n",
        "avgbmi_nw=nwbmitotal/nwbminum\n",
        "avgbmi_se=sebmitotal/sebminum\n",
        "avgbmi_ne=nebmitotal/nebminum\n",
        "\n",
        "plot1=plt.bar(\"southwest\",avgbmi_sw,color=\"r\",label=\"Average Bmi in region\",width=0.1)\n",
        "plot1=plt.bar(\"southwest\",southwest,color=\"green\",label=\"Number of Smokes in region\",width=0.1,bottom=avgbmi_sw)\n",
        "plot1=plt.bar(\"northwest\",avgbmi_nw,color=\"r\",width=0.1)\n",
        "plot1=plt.bar(\"northwest\",northwest,color=\"green\",width=0.1,bottom=avgbmi_nw)\n",
        "plot1=plt.bar(\"southeast\",avgbmi_se,color=\"r\",width=0.1)\n",
        "plot1=plt.bar(\"southeast\",southwest,color=\"green\",width=0.1,bottom=avgbmi_se)\n",
        "plot1=plt.bar(\"northeast\",avgbmi_ne,color=\"r\",width=0.1)\n",
        "plot1=plt.bar(\"northeast\",northeast,color=\"green\",width=0.1,bottom=avgbmi_ne)\n",
        "plot1=plt.grid()\n",
        "plot1=plt.legend()\n",
        "\n",
        "\n"
      ],
      "metadata": {
        "colab": {
          "base_uri": "https://localhost:8080/",
          "height": 267
        },
        "id": "da1Fs48Ix10o",
        "outputId": "9672812d-466f-44bb-f7ec-7426eb60dc11"
      },
      "execution_count": 128,
      "outputs": [
        {
          "output_type": "display_data",
          "data": {
            "text/plain": [
              "<Figure size 432x288 with 1 Axes>"
            ],
            "image/png": "[encoded data removed]"
          },
          "metadata": {
            "needs_background": "light"
          }
        }
      ]
    },
    {
      "cell_type": "code",
      "source": [
        "#I am going to control the data.\n",
        "df.info()"
      ],
      "metadata": {
        "colab": {
          "base_uri": "https://localhost:8080/"
        },
        "id": "KbBr9cx5V8Hr",
        "outputId": "8e69ca16-2142-4467-827b-88d8e2f5b6ff"
      },
      "execution_count": 129,
      "outputs": [
        {
          "output_type": "stream",
          "name": "stdout",
          "text": [
            "<class 'pandas.core.frame.DataFrame'>\n",
            "RangeIndex: 1338 entries, 0 to 1337\n",
            "Data columns (total 7 columns):\n",
            " #   Column    Non-Null Count  Dtype  \n",
            "---  ------    --------------  -----  \n",
            " 0   age       1338 non-null   int64  \n",
            " 1   sex       1338 non-null   object \n",
            " 2   bmi       1338 non-null   float64\n",
            " 3   children  1338 non-null   int64  \n",
            " 4   smoker    1338 non-null   object \n",
            " 5   region    1338 non-null   object \n",
            " 6   charges   1338 non-null   float64\n",
            "dtypes: float64(2), int64(2), object(3)\n",
            "memory usage: 73.3+ KB\n"
          ]
        }
      ]
    },
    {
      "cell_type": "code",
      "source": [
        "#ONE HOW ENCOGING\n",
        "df = pd.get_dummies(df, columns = ['region','sex','smoker',])"
      ],
      "metadata": {
        "id": "714LtKM2et2J"
      },
      "execution_count": 130,
      "outputs": []
    },
    {
      "cell_type": "code",
      "source": [
        "df"
      ],
      "metadata": {
        "colab": {
          "base_uri": "https://localhost:8080/",
          "height": 424
        },
        "id": "tmx0H8Pse0t2",
        "outputId": "03aae45c-0cee-418e-d771-27733975600f"
      },
      "execution_count": 131,
      "outputs": [
        {
          "output_type": "execute_result",
          "data": {
            "text/plain": [
              "      age     bmi  children      charges  region_northeast  region_northwest  \\\n",
              "0      19  27.900         0  16884.92400                 0                 0   \n",
              "1      18  33.770         1   1725.55230                 0                 0   \n",
              "2      28  33.000         3   4449.46200                 0                 0   \n",
              "3      33  22.705         0  21984.47061                 0                 1   \n",
              "4      32  28.880         0   3866.85520                 0                 1   \n",
              "...   ...     ...       ...          ...               ...               ...   \n",
              "1333   50  30.970         3  10600.54830                 0                 1   \n",
              "1334   18  31.920         0   2205.98080                 1                 0   \n",
              "1335   18  36.850         0   1629.83350                 0                 0   \n",
              "1336   21  25.800         0   2007.94500                 0                 0   \n",
              "1337   61  29.070         0  29141.36030                 0                 1   \n",
              "\n",
              "      region_southeast  region_southwest  sex_female  sex_male  smoker_no  \\\n",
              "0                    0                 1           1         0          0   \n",
              "1                    1                 0           0         1          1   \n",
              "2                    1                 0           0         1          1   \n",
              "3                    0                 0           0         1          1   \n",
              "4                    0                 0           0         1          1   \n",
              "...                ...               ...         ...       ...        ...   \n",
              "1333                 0                 0           0         1          1   \n",
              "1334                 0                 0           1         0          1   \n",
              "1335                 1                 0           1         0          1   \n",
              "1336                 0                 1           1         0          1   \n",
              "1337                 0                 0           1         0          0   \n",
              "\n",
              "      smoker_yes  \n",
              "0              1  \n",
              "1              0  \n",
              "2              0  \n",
              "3              0  \n",
              "4              0  \n",
              "...          ...  \n",
              "1333           0  \n",
              "1334           0  \n",
              "1335           0  \n",
              "1336           0  \n",
              "1337           1  \n",
              "\n",
              "[1338 rows x 12 columns]"
            ],
            "text/html": [
              "\n",
              "  <div id=\"df-a5d88957-8a4c-4765-b59d-1991fabb1019\">\n",
              "    <div class=\"colab-df-container\">\n",
              "      <div>\n",
              "<style scoped>\n",
              "    .dataframe tbody tr th:only-of-type {\n",
              "        vertical-align: middle;\n",
              "    }\n",
              "\n",
              "    .dataframe tbody tr th {\n",
              "        vertical-align: top;\n",
              "    }\n",
              "\n",
              "    .dataframe thead th {\n",
              "        text-align: right;\n",
              "    }\n",
              "</style>\n",
              "<table border=\"1\" class=\"dataframe\">\n",
              "  <thead>\n",
              "    <tr style=\"text-align: right;\">\n",
              "      <th></th>\n",
              "      <th>age</th>\n",
              "      <th>bmi</th>\n",
              "      <th>children</th>\n",
              "      <th>charges</th>\n",
              "      <th>region_northeast</th>\n",
              "      <th>region_northwest</th>\n",
              "      <th>region_southeast</th>\n",
              "      <th>region_southwest</th>\n",
              "      <th>sex_female</th>\n",
              "      <th>sex_male</th>\n",
              "      <th>smoker_no</th>\n",
              "      <th>smoker_yes</th>\n",
              "    </tr>\n",
              "  </thead>\n",
              "  <tbody>\n",
              "    <tr>\n",
              "      <th>0</th>\n",
              "      <td>19</td>\n",
              "      <td>27.900</td>\n",
              "      <td>0</td>\n",
              "      <td>16884.92400</td>\n",
              "      <td>0</td>\n",
              "      <td>0</td>\n",
              "      <td>0</td>\n",
              "      <td>1</td>\n",
              "      <td>1</td>\n",
              "      <td>0</td>\n",
              "      <td>0</td>\n",
              "      <td>1</td>\n",
              "    </tr>\n",
              "    <tr>\n",
              "      <th>1</th>\n",
              "      <td>18</td>\n",
              "      <td>33.770</td>\n",
              "      <td>1</td>\n",
              "      <td>1725.55230</td>\n",
              "      <td>0</td>\n",
              "      <td>0</td>\n",
              "      <td>1</td>\n",
              "      <td>0</td>\n",
              "      <td>0</td>\n",
              "      <td>1</td>\n",
              "      <td>1</td>\n",
              "      <td>0</td>\n",
              "    </tr>\n",
              "    <tr>\n",
              "      <th>2</th>\n",
              "      <td>28</td>\n",
              "      <td>33.000</td>\n",
              "      <td>3</td>\n",
              "      <td>4449.46200</td>\n",
              "      <td>0</td>\n",
              "      <td>0</td>\n",
              "      <td>1</td>\n",
              "      <td>0</td>\n",
              "      <td>0</td>\n",
              "      <td>1</td>\n",
              "      <td>1</td>\n",
              "      <td>0</td>\n",
              "    </tr>\n",
              "    <tr>\n",
              "      <th>3</th>\n",
              "      <td>33</td>\n",
              "      <td>22.705</td>\n",
              "      <td>0</td>\n",
              "      <td>21984.47061</td>\n",
              "      <td>0</td>\n",
              "      <td>1</td>\n",
              "      <td>0</td>\n",
              "      <td>0</td>\n",
              "      <td>0</td>\n",
              "      <td>1</td>\n",
              "      <td>1</td>\n",
              "      <td>0</td>\n",
              "    </tr>\n",
              "    <tr>\n",
              "      <th>4</th>\n",
              "      <td>32</td>\n",
              "      <td>28.880</td>\n",
              "      <td>0</td>\n",
              "      <td>3866.85520</td>\n",
              "      <td>0</td>\n",
              "      <td>1</td>\n",
              "      <td>0</td>\n",
              "      <td>0</td>\n",
              "      <td>0</td>\n",
              "      <td>1</td>\n",
              "      <td>1</td>\n",
              "      <td>0</td>\n",
              "    </tr>\n",
              "    <tr>\n",
              "      <th>...</th>\n",
              "      <td>...</td>\n",
              "      <td>...</td>\n",
              "      <td>...</td>\n",
              "      <td>...</td>\n",
              "      <td>...</td>\n",
              "      <td>...</td>\n",
              "      <td>...</td>\n",
              "      <td>...</td>\n",
              "      <td>...</td>\n",
              "      <td>...</td>\n",
              "      <td>...</td>\n",
              "      <td>...</td>\n",
              "    </tr>\n",
              "    <tr>\n",
              "      <th>1333</th>\n",
              "      <td>50</td>\n",
              "      <td>30.970</td>\n",
              "      <td>3</td>\n",
              "      <td>10600.54830</td>\n",
              "      <td>0</td>\n",
              "      <td>1</td>\n",
              "      <td>0</td>\n",
              "      <td>0</td>\n",
              "      <td>0</td>\n",
              "      <td>1</td>\n",
              "      <td>1</td>\n",
              "      <td>0</td>\n",
              "    </tr>\n",
              "    <tr>\n",
              "      <th>1334</th>\n",
              "      <td>18</td>\n",
              "      <td>31.920</td>\n",
              "      <td>0</td>\n",
              "      <td>2205.98080</td>\n",
              "      <td>1</td>\n",
              "      <td>0</td>\n",
              "      <td>0</td>\n",
              "      <td>0</td>\n",
              "      <td>1</td>\n",
              "      <td>0</td>\n",
              "      <td>1</td>\n",
              "      <td>0</td>\n",
              "    </tr>\n",
              "    <tr>\n",
              "      <th>1335</th>\n",
              "      <td>18</td>\n",
              "      <td>36.850</td>\n",
              "      <td>0</td>\n",
              "      <td>1629.83350</td>\n",
              "      <td>0</td>\n",
              "      <td>0</td>\n",
              "      <td>1</td>\n",
              "      <td>0</td>\n",
              "      <td>1</td>\n",
              "      <td>0</td>\n",
              "      <td>1</td>\n",
              "      <td>0</td>\n",
              "    </tr>\n",
              "    <tr>\n",
              "      <th>1336</th>\n",
              "      <td>21</td>\n",
              "      <td>25.800</td>\n",
              "      <td>0</td>\n",
              "      <td>2007.94500</td>\n",
              "      <td>0</td>\n",
              "      <td>0</td>\n",
              "      <td>0</td>\n",
              "      <td>1</td>\n",
              "      <td>1</td>\n",
              "      <td>0</td>\n",
              "      <td>1</td>\n",
              "      <td>0</td>\n",
              "    </tr>\n",
              "    <tr>\n",
              "      <th>1337</th>\n",
              "      <td>61</td>\n",
              "      <td>29.070</td>\n",
              "      <td>0</td>\n",
              "      <td>29141.36030</td>\n",
              "      <td>0</td>\n",
              "      <td>1</td>\n",
              "      <td>0</td>\n",
              "      <td>0</td>\n",
              "      <td>1</td>\n",
              "      <td>0</td>\n",
              "      <td>0</td>\n",
              "      <td>1</td>\n",
              "    </tr>\n",
              "  </tbody>\n",
              "</table>\n",
              "<p>1338 rows × 12 columns</p>\n",
              "</div>\n",
              "      <button class=\"colab-df-convert\" onclick=\"convertToInteractive('df-a5d88957-8a4c-4765-b59d-1991fabb1019')\"\n",
              "              title=\"Convert this dataframe to an interactive table.\"\n",
              "              style=\"display:none;\">\n",
              "        \n",
              "  <svg xmlns=\"http://www.w3.org/2000/svg\" height=\"24px\"viewBox=\"0 0 24 24\"\n",
              "       width=\"24px\">\n",
              "    <path d=\"M0 0h24v24H0V0z\" fill=\"none\"/>\n",
              "    <path d=\"M18.56 5.44l.94 2.06.94-2.06 2.06-.94-2.06-.94-.94-2.06-.94 2.06-2.06.94zm-11 1L8.5 8.5l.94-2.06 2.06-.94-2.06-.94L8.5 2.5l-.94 2.06-2.06.94zm10 10l.94 2.06.94-2.06 2.06-.94-2.06-.94-.94-2.06-.94 2.06-2.06.94z\"/><path d=\"M17.41 7.96l-1.37-1.37c-.4-.4-.92-.59-1.43-.59-.52 0-1.04.2-1.43.59L10.3 9.45l-7.72 7.72c-.78.78-.78 2.05 0 2.83L4 21.41c.39.39.9.59 1.41.59.51 0 1.02-.2 1.41-.59l7.78-7.78 2.81-2.81c.8-.78.8-2.07 0-2.86zM5.41 20L4 18.59l7.72-7.72 1.47 1.35L5.41 20z\"/>\n",
              "  </svg>\n",
              "      </button>\n",
              "      \n",
              "  <style>\n",
              "    .colab-df-container {\n",
              "      display:flex;\n",
              "      flex-wrap:wrap;\n",
              "      gap: 12px;\n",
              "    }\n",
              "\n",
              "    .colab-df-convert {\n",
              "      background-color: #E8F0FE;\n",
              "      border: none;\n",
              "      border-radius: 50%;\n",
              "      cursor: pointer;\n",
              "      display: none;\n",
              "      fill: #1967D2;\n",
              "      height: 32px;\n",
              "      padding: 0 0 0 0;\n",
              "      width: 32px;\n",
              "    }\n",
              "\n",
              "    .colab-df-convert:hover {\n",
              "      background-color: #E2EBFA;\n",
              "      box-shadow: 0px 1px 2px rgba(60, 64, 67, 0.3), 0px 1px 3px 1px rgba(60, 64, 67, 0.15);\n",
              "      fill: #174EA6;\n",
              "    }\n",
              "\n",
              "    [theme=dark] .colab-df-convert {\n",
              "      background-color: #3B4455;\n",
              "      fill: #D2E3FC;\n",
              "    }\n",
              "\n",
              "    [theme=dark] .colab-df-convert:hover {\n",
              "      background-color: #434B5C;\n",
              "      box-shadow: 0px 1px 3px 1px rgba(0, 0, 0, 0.15);\n",
              "      filter: drop-shadow(0px 1px 2px rgba(0, 0, 0, 0.3));\n",
              "      fill: #FFFFFF;\n",
              "    }\n",
              "  </style>\n",
              "\n",
              "      <script>\n",
              "        const buttonEl =\n",
              "          document.querySelector('#df-a5d88957-8a4c-4765-b59d-1991fabb1019 button.colab-df-convert');\n",
              "        buttonEl.style.display =\n",
              "          google.colab.kernel.accessAllowed ? 'block' : 'none';\n",
              "\n",
              "        async function convertToInteractive(key) {\n",
              "          const element = document.querySelector('#df-a5d88957-8a4c-4765-b59d-1991fabb1019');\n",
              "          const dataTable =\n",
              "            await google.colab.kernel.invokeFunction('convertToInteractive',\n",
              "                                                     [key], {});\n",
              "          if (!dataTable) return;\n",
              "\n",
              "          const docLinkHtml = 'Like what you see? Visit the ' +\n",
              "            '<a target=\"_blank\" href=https://colab.research.google.com/notebooks/data_table.ipynb>data table notebook</a>'\n",
              "            + ' to learn more about interactive tables.';\n",
              "          element.innerHTML = '';\n",
              "          dataTable['output_type'] = 'display_data';\n",
              "          await google.colab.output.renderOutput(dataTable, element);\n",
              "          const docLink = document.createElement('div');\n",
              "          docLink.innerHTML = docLinkHtml;\n",
              "          element.appendChild(docLink);\n",
              "        }\n",
              "      </script>\n",
              "    </div>\n",
              "  </div>\n",
              "  "
            ]
          },
          "metadata": {},
          "execution_count": 131
        }
      ]
    },
    {
      "cell_type": "code",
      "source": [
        "df.isna().any()"
      ],
      "metadata": {
        "colab": {
          "base_uri": "https://localhost:8080/"
        },
        "id": "rktVbvvAWtO8",
        "outputId": "979a88dc-99d0-4b12-8137-0bae38738769"
      },
      "execution_count": 132,
      "outputs": [
        {
          "output_type": "execute_result",
          "data": {
            "text/plain": [
              "age                 False\n",
              "bmi                 False\n",
              "children            False\n",
              "charges             False\n",
              "region_northeast    False\n",
              "region_northwest    False\n",
              "region_southeast    False\n",
              "region_southwest    False\n",
              "sex_female          False\n",
              "sex_male            False\n",
              "smoker_no           False\n",
              "smoker_yes          False\n",
              "dtype: bool"
            ]
          },
          "metadata": {},
          "execution_count": 132
        }
      ]
    },
    {
      "cell_type": "code",
      "source": [
        "df.dtypes"
      ],
      "metadata": {
        "colab": {
          "base_uri": "https://localhost:8080/"
        },
        "id": "thaH8Rb7Wv5X",
        "outputId": "1253e75d-6d45-4355-a2f3-86fc7401fb2a"
      },
      "execution_count": 133,
      "outputs": [
        {
          "output_type": "execute_result",
          "data": {
            "text/plain": [
              "age                   int64\n",
              "bmi                 float64\n",
              "children              int64\n",
              "charges             float64\n",
              "region_northeast      uint8\n",
              "region_northwest      uint8\n",
              "region_southeast      uint8\n",
              "region_southwest      uint8\n",
              "sex_female            uint8\n",
              "sex_male              uint8\n",
              "smoker_no             uint8\n",
              "smoker_yes            uint8\n",
              "dtype: object"
            ]
          },
          "metadata": {},
          "execution_count": 133
        }
      ]
    },
    {
      "cell_type": "code",
      "source": [
        "#TRAIN TEST SPLIT\n",
        "\n",
        "from sklearn.model_selection import train_test_split,cross_val_score,RandomizedSearchCV,GridSearchCV\n",
        "from sklearn.metrics import confusion_matrix,classification_report,precision_score,f1_score\n",
        "\n",
        "from sklearn.linear_model import LogisticRegression"
      ],
      "metadata": {
        "id": "_EsR_iCXW_Cb"
      },
      "execution_count": 134,
      "outputs": []
    },
    {
      "cell_type": "code",
      "source": [
        "corr= df.corr()"
      ],
      "metadata": {
        "id": "DWEDCkdOe6Ja"
      },
      "execution_count": 135,
      "outputs": []
    },
    {
      "cell_type": "code",
      "source": [
        "fig,ax=plt.subplots(figsize=(10,8))\n",
        "ax=sns.heatmap(corr,annot=True,fmt=\".2f\")"
      ],
      "metadata": {
        "colab": {
          "base_uri": "https://localhost:8080/",
          "height": 565
        },
        "id": "k5mXsQd5e89e",
        "outputId": "93561721-a80c-45f8-f4f7-75baa7ae4952"
      },
      "execution_count": 136,
      "outputs": [
        {
          "output_type": "display_data",
          "data": {
            "text/plain": [
              "<Figure size 720x576 with 2 Axes>"
            ],
            "image/png": "[encoded data removed]"
          },
          "metadata": {
            "needs_background": "light"
          }
        }
      ]
    },
    {
      "cell_type": "code",
      "source": [
        "X=df.drop(\"charges\",axis=1) \n",
        "y=df[\"charges\"]"
      ],
      "metadata": {
        "id": "ewrPrMrhgWQr"
      },
      "execution_count": 137,
      "outputs": []
    },
    {
      "cell_type": "code",
      "source": [
        "#Normalizasyon\n",
        "from sklearn import preprocessing\n",
        "d = preprocessing.normalize(X, axis=1)\n",
        "names = X.columns\n",
        "scaled_X = pd.DataFrame(d, columns=names)"
      ],
      "metadata": {
        "id": "HsrzzQy29Ek_"
      },
      "execution_count": 138,
      "outputs": []
    },
    {
      "cell_type": "code",
      "source": [
        "from sklearn.linear_model import LinearRegression\n",
        "from sklearn.model_selection import cross_val_score\n",
        "reg = LinearRegression()\n",
        "print(cross_val_score(reg,scaled_X,y,cv=10,scoring='neg_root_mean_squared_error').mean()*-1)"
      ],
      "metadata": {
        "colab": {
          "base_uri": "https://localhost:8080/"
        },
        "id": "wXtivcu-uqwj",
        "outputId": "ce3d982a-fc04-43e2-ef1a-04e247777f9a"
      },
      "execution_count": 139,
      "outputs": [
        {
          "output_type": "stream",
          "name": "stdout",
          "text": [
            "7159.169551104533\n"
          ]
        }
      ]
    },
    {
      "cell_type": "code",
      "source": [
        "from sklearn.svm import SVR\n",
        "from sklearn.model_selection import cross_val_score\n",
        "reg = SVR()\n",
        "print(cross_val_score(reg,scaled_X,y,cv=10,scoring='neg_root_mean_squared_error').mean()*-1)"
      ],
      "metadata": {
        "colab": {
          "base_uri": "https://localhost:8080/"
        },
        "id": "m_eTALQz35tr",
        "outputId": "d5902851-c898-40a6-8206-f75d0e9474a7"
      },
      "execution_count": 140,
      "outputs": [
        {
          "output_type": "stream",
          "name": "stdout",
          "text": [
            "12691.5582575807\n"
          ]
        }
      ]
    },
    {
      "cell_type": "code",
      "source": [
        "from sklearn.tree import DecisionTreeRegressor\n",
        "from sklearn.model_selection import cross_val_score\n",
        "reg = DecisionTreeRegressor()\n",
        "print(cross_val_score(reg,scaled_X,y,cv=10,scoring='neg_root_mean_squared_error').mean()*-1)"
      ],
      "metadata": {
        "colab": {
          "base_uri": "https://localhost:8080/"
        },
        "id": "H6KPGTvn666o",
        "outputId": "42dce4c0-02cd-44d0-9d80-8c3d99499d55"
      },
      "execution_count": 141,
      "outputs": [
        {
          "output_type": "stream",
          "name": "stdout",
          "text": [
            "6549.429202599271\n"
          ]
        }
      ]
    },
    {
      "cell_type": "code",
      "source": [
        "#TRAIN TEST SPLITTING \n",
        "from sklearn.metrics import mean_absolute_error\n",
        "from sklearn.metrics import mean_squared_error\n",
        "X_train,X_test,y_train,y_test=train_test_split(scaled_X,y,test_size=0.2,random_state=42)\n",
        "model = DecisionTreeRegressor(max_depth=5,min_samples_split=2,min_samples_leaf=2)\n",
        "model.fit(X_train,y_train)\n",
        "\n",
        "predictions = model.predict(X_test)\n",
        "\n",
        "mae = mean_absolute_error(y_test,predictions)\n",
        "mse = mean_squared_error(y_test,predictions)\n",
        "print('MAE: ' + str(mae))\n",
        "print('MSE: ' + str(mse))"
      ],
      "metadata": {
        "colab": {
          "base_uri": "https://localhost:8080/"
        },
        "id": "vmXx9lg37wXH",
        "outputId": "a6fb0ae7-be2e-42da-d0e2-15f4c4ea4f94"
      },
      "execution_count": 142,
      "outputs": [
        {
          "output_type": "stream",
          "name": "stdout",
          "text": [
            "MAE: 3036.494837455316\n",
            "MSE: 26396130.490551073\n"
          ]
        }
      ]
    }
  ]
}